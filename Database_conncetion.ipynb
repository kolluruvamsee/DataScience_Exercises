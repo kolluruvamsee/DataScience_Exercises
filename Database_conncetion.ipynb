{
 "cells": [
  {
   "cell_type": "code",
   "execution_count": 1,
   "id": "0de6f355",
   "metadata": {},
   "outputs": [],
   "source": [
    "import warnings\n",
    "\n",
    "warnings.filterwarnings(\"ignore\") #just to keep clean\n",
    "from configparser import ConfigParser\n",
    "import mysql.connector as DB_connector\n",
    "from simple_ddl_parser import DDLParser\n",
    "import pprint\n",
    "import six\n",
    "import pandas as pd\n",
    "import numpy as np"
   ]
  },
  {
   "cell_type": "code",
   "execution_count": 2,
   "id": "66ec7448",
   "metadata": {},
   "outputs": [],
   "source": [
    "Creat_Table1=\"CREATE TABLE if not exists author(A_ID int NOT NULL, \\\n",
    "\t\t\t\t\ta_name varchar(100), \\\n",
    "                    PRIMARY KEY (A_ID));\"\n",
    "Creat_Table2=\"CREATE TABLE if not exists books(B_ID int NOT NULL PRIMARY KEY, \\\n",
    "\t\t\t\t   b_name varchar(100), \\\n",
    "                   Price int NOT NULL, \\\n",
    "                   A_ID int NOT NULL, \\\n",
    "                   FOREIGN KEY (A_ID) REFERENCES author(A_ID));\""
   ]
  },
  {
   "cell_type": "markdown",
   "id": "f16a7a3d",
   "metadata": {},
   "source": [
    "## DDL parsing"
   ]
  },
  {
   "cell_type": "code",
   "execution_count": 3,
   "id": "64b1df33",
   "metadata": {},
   "outputs": [
    {
     "name": "stdout",
     "output_type": "stream",
     "text": [
      "author\n",
      "[{'alter': {},\n",
      "  'checks': [],\n",
      "  'columns': [{'check': None,\n",
      "               'default': None,\n",
      "               'name': 'A_ID',\n",
      "               'nullable': False,\n",
      "               'references': None,\n",
      "               'size': None,\n",
      "               'type': 'int',\n",
      "               'unique': False},\n",
      "              {'check': None,\n",
      "               'default': None,\n",
      "               'name': 'a_name',\n",
      "               'nullable': True,\n",
      "               'references': None,\n",
      "               'size': 100,\n",
      "               'type': 'varchar',\n",
      "               'unique': False}],\n",
      "  'if_not_exists': True,\n",
      "  'index': [],\n",
      "  'partitioned_by': [],\n",
      "  'primary_key': ['A_ID'],\n",
      "  'schema': None,\n",
      "  'table_name': 'author',\n",
      "  'tablespace': None}]\n"
     ]
    }
   ],
   "source": [
    "table1_details=DDLParser(Creat_Table1).run()\n",
    "table1=table1_details[0]['table_name']\n",
    "print(table1)\n",
    "pprint.pprint(table1_details)"
   ]
  },
  {
   "cell_type": "code",
   "execution_count": 4,
   "id": "83821b4b",
   "metadata": {},
   "outputs": [
    {
     "name": "stdout",
     "output_type": "stream",
     "text": [
      "books\n",
      "[{'alter': {},\n",
      "  'checks': [],\n",
      "  'columns': [{'check': None,\n",
      "               'default': None,\n",
      "               'name': 'B_ID',\n",
      "               'nullable': False,\n",
      "               'references': None,\n",
      "               'size': None,\n",
      "               'type': 'int',\n",
      "               'unique': False},\n",
      "              {'check': None,\n",
      "               'default': None,\n",
      "               'name': 'b_name',\n",
      "               'nullable': True,\n",
      "               'references': None,\n",
      "               'size': 100,\n",
      "               'type': 'varchar',\n",
      "               'unique': False},\n",
      "              {'check': None,\n",
      "               'default': None,\n",
      "               'name': 'Price',\n",
      "               'nullable': False,\n",
      "               'references': None,\n",
      "               'size': None,\n",
      "               'type': 'int',\n",
      "               'unique': False},\n",
      "              {'check': None,\n",
      "               'default': None,\n",
      "               'name': 'A_ID',\n",
      "               'nullable': False,\n",
      "               'references': {'column': 'A_ID',\n",
      "                              'deferrable_initially': None,\n",
      "                              'on_delete': None,\n",
      "                              'on_update': None,\n",
      "                              'schema': None,\n",
      "                              'table': 'author'},\n",
      "               'size': None,\n",
      "               'type': 'int',\n",
      "               'unique': False}],\n",
      "  'if_not_exists': True,\n",
      "  'index': [],\n",
      "  'partitioned_by': [],\n",
      "  'primary_key': ['B_ID'],\n",
      "  'schema': None,\n",
      "  'table_name': 'books',\n",
      "  'tablespace': None}]\n"
     ]
    }
   ],
   "source": [
    "table2_details=DDLParser(Creat_Table2).run()\n",
    "table2=table2_details[0]['table_name']\n",
    "print(table2)\n",
    "pprint.pprint(table2_details)"
   ]
  },
  {
   "cell_type": "markdown",
   "id": "0f554d01",
   "metadata": {},
   "source": [
    "## OOPS concepts applied"
   ]
  },
  {
   "cell_type": "code",
   "execution_count": 5,
   "id": "256c5a6e",
   "metadata": {},
   "outputs": [
    {
     "name": "stdout",
     "output_type": "stream",
     "text": [
      "_________Valmiki , 1_______\n",
      "The Book's name is Ramayan, with id 1,         by Valmiki with author id 1  --- Price of book is 3258.5\n"
     ]
    }
   ],
   "source": [
    "class Author:\n",
    "    def __init__(self,name:str,a_id:int):\n",
    "        if isinstance(name,six.string_types) and isinstance(a_id,six.integer_types):\n",
    "            pass\n",
    "        else:\n",
    "            print(type(name))\n",
    "            print(type(a_id))\n",
    "            raise Exception(\"Name should be string and a_id should be integer\")\n",
    "        self.name=name\n",
    "        self.a_id=a_id\n",
    "    def __repr__(self):\n",
    "        return f\"The author's name is {self.name}, with id {self.a_id}\"\n",
    "    def __eq__(self,other):\n",
    "        return str(self.name).lower() == str(other.name).lower() and self.a_id == other.a_id\n",
    "    def author_details(self):\n",
    "        print(f\"_________{self.name} , {self.a_id}_______\")\n",
    "class Books(Author):\n",
    "    def __init__(self,name,a_id,b_name:str,b_id:int,price:float):\n",
    "        if isinstance(name,six.string_types) and isinstance(a_id,six.integer_types):\n",
    "            pass\n",
    "        else:\n",
    "            print(type(name))\n",
    "            print(type(a_id))\n",
    "            raise Exception(\"Name should be string and a_id should be integer\")\n",
    "            \n",
    "        if isinstance(b_name,six.string_types) and isinstance(b_id,six.integer_types) and isinstance(price,float):\n",
    "            pass\n",
    "        else:\n",
    "            print(type(b_name))\n",
    "            print(type(b_id))\n",
    "            print(type(price))\n",
    "            raise Exception(\"Name should be string,b_id should be integer and price shouldbe float\")\n",
    "        self.name=name\n",
    "        self.a_id=a_id\n",
    "        self.b_name=b_name\n",
    "        self.b_id=b_id\n",
    "        self.price=price\n",
    "        self.author_details()\n",
    "    def __repr__(self):\n",
    "        return f\"The Book's name is {self.b_name}, with id {self.a_id}, \\\n",
    "        by {self.name} with author id {self.a_id}  --- Price of book is {self.price}\"\n",
    "    def __eq__(self,other):\n",
    "        return str(self.name).lower() == str(other.name).lower() and self.a_id == other.a_id\n",
    "\n",
    "if __name__==\"__main__\":\n",
    "    data=[\"Valmiki\",1,\"Ramayan\",1,3258.50]\n",
    "    \n",
    "    book=Books(name=data[0],a_id=data[1],b_name=data[2],b_id=data[3],price=data[4])\n",
    "    print(book)     "
   ]
  },
  {
   "cell_type": "markdown",
   "id": "19067a24",
   "metadata": {},
   "source": [
    "## creating tables and populating data"
   ]
  },
  {
   "cell_type": "code",
   "execution_count": 6,
   "id": "a0a40e9f",
   "metadata": {},
   "outputs": [],
   "source": [
    "df=pd.read_csv(\"Books_data.csv\",index_col=0)"
   ]
  },
  {
   "cell_type": "code",
   "execution_count": 7,
   "id": "592ea743",
   "metadata": {},
   "outputs": [
    {
     "data": {
      "text/html": [
       "<div>\n",
       "<style scoped>\n",
       "    .dataframe tbody tr th:only-of-type {\n",
       "        vertical-align: middle;\n",
       "    }\n",
       "\n",
       "    .dataframe tbody tr th {\n",
       "        vertical-align: top;\n",
       "    }\n",
       "\n",
       "    .dataframe thead th {\n",
       "        text-align: right;\n",
       "    }\n",
       "</style>\n",
       "<table border=\"1\" class=\"dataframe\">\n",
       "  <thead>\n",
       "    <tr style=\"text-align: right;\">\n",
       "      <th></th>\n",
       "      <th>bookId</th>\n",
       "      <th>title</th>\n",
       "      <th>price</th>\n",
       "      <th>author</th>\n",
       "      <th>a_id</th>\n",
       "    </tr>\n",
       "  </thead>\n",
       "  <tbody>\n",
       "    <tr>\n",
       "      <th>0</th>\n",
       "      <td>2767052-the-hunger-games</td>\n",
       "      <td>The Hunger Games</td>\n",
       "      <td>386.84</td>\n",
       "      <td>Suzanne Collins</td>\n",
       "      <td>3017</td>\n",
       "    </tr>\n",
       "    <tr>\n",
       "      <th>1</th>\n",
       "      <td>2.Harry_Potter_and_the_Order_of_the_Phoenix</td>\n",
       "      <td>Harry Potter and the Order of the Phoenix</td>\n",
       "      <td>560.88</td>\n",
       "      <td>J.K. Rowling, Mary GrandPré (Illustrator)</td>\n",
       "      <td>8873</td>\n",
       "    </tr>\n",
       "    <tr>\n",
       "      <th>2</th>\n",
       "      <td>2657.To_Kill_a_Mockingbird</td>\n",
       "      <td>To Kill a Mockingbird</td>\n",
       "      <td>529.42</td>\n",
       "      <td>Harper Lee</td>\n",
       "      <td>6718</td>\n",
       "    </tr>\n",
       "    <tr>\n",
       "      <th>3</th>\n",
       "      <td>1885.Pride_and_Prejudice</td>\n",
       "      <td>Pride and Prejudice</td>\n",
       "      <td>529.42</td>\n",
       "      <td>Jane Austen, Anna Quindlen (Introduction)</td>\n",
       "      <td>4117</td>\n",
       "    </tr>\n",
       "    <tr>\n",
       "      <th>4</th>\n",
       "      <td>41865.Twilight</td>\n",
       "      <td>Twilight</td>\n",
       "      <td>159.60</td>\n",
       "      <td>Stephenie Meyer</td>\n",
       "      <td>5008</td>\n",
       "    </tr>\n",
       "  </tbody>\n",
       "</table>\n",
       "</div>"
      ],
      "text/plain": [
       "                                        bookId  \\\n",
       "0                     2767052-the-hunger-games   \n",
       "1  2.Harry_Potter_and_the_Order_of_the_Phoenix   \n",
       "2                   2657.To_Kill_a_Mockingbird   \n",
       "3                     1885.Pride_and_Prejudice   \n",
       "4                               41865.Twilight   \n",
       "\n",
       "                                       title   price  \\\n",
       "0                           The Hunger Games  386.84   \n",
       "1  Harry Potter and the Order of the Phoenix  560.88   \n",
       "2                      To Kill a Mockingbird  529.42   \n",
       "3                        Pride and Prejudice  529.42   \n",
       "4                                   Twilight  159.60   \n",
       "\n",
       "                                      author  a_id  \n",
       "0                            Suzanne Collins  3017  \n",
       "1  J.K. Rowling, Mary GrandPré (Illustrator)  8873  \n",
       "2                                 Harper Lee  6718  \n",
       "3  Jane Austen, Anna Quindlen (Introduction)  4117  \n",
       "4                            Stephenie Meyer  5008  "
      ]
     },
     "execution_count": 7,
     "metadata": {},
     "output_type": "execute_result"
    }
   ],
   "source": [
    "df.head()"
   ]
  },
  {
   "cell_type": "code",
   "execution_count": 8,
   "id": "95969cef",
   "metadata": {},
   "outputs": [
    {
     "name": "stdout",
     "output_type": "stream",
     "text": [
      "<class 'pandas.core.frame.DataFrame'>\n",
      "Int64Index: 4938 entries, 0 to 4937\n",
      "Data columns (total 5 columns):\n",
      " #   Column  Non-Null Count  Dtype  \n",
      "---  ------  --------------  -----  \n",
      " 0   bookId  4938 non-null   object \n",
      " 1   title   4938 non-null   object \n",
      " 2   price   4938 non-null   float64\n",
      " 3   author  4938 non-null   object \n",
      " 4   a_id    4938 non-null   int64  \n",
      "dtypes: float64(1), int64(1), object(3)\n",
      "memory usage: 231.5+ KB\n"
     ]
    }
   ],
   "source": [
    "df.info()"
   ]
  },
  {
   "cell_type": "markdown",
   "id": "26d3575b",
   "metadata": {},
   "source": [
    "The bookId is in the form of string,just for the sake of this exercise,lut us transform the data into integer format. In order to normalize the data, let us break this into two tables and load the same into SQL tables."
   ]
  },
  {
   "cell_type": "code",
   "execution_count": 9,
   "id": "a5c014e2",
   "metadata": {},
   "outputs": [
    {
     "name": "stdout",
     "output_type": "stream",
     "text": [
      "<class 'pandas.core.frame.DataFrame'>\n",
      "Int64Index: 4938 entries, 0 to 4937\n",
      "Data columns (total 5 columns):\n",
      " #   Column  Non-Null Count  Dtype  \n",
      "---  ------  --------------  -----  \n",
      " 0   title   4938 non-null   object \n",
      " 1   price   4938 non-null   float64\n",
      " 2   author  4938 non-null   object \n",
      " 3   a_id    4938 non-null   int64  \n",
      " 4   b_id    4938 non-null   int64  \n",
      "dtypes: float64(1), int64(2), object(2)\n",
      "memory usage: 231.5+ KB\n"
     ]
    }
   ],
   "source": [
    "df[\"b_id\"]=df[\"bookId\"].index\n",
    "\n",
    "df.drop(columns=[\"bookId\"],inplace=True)\n",
    "df.info()"
   ]
  },
  {
   "cell_type": "code",
   "execution_count": 10,
   "id": "80aad0f6",
   "metadata": {},
   "outputs": [
    {
     "name": "stdout",
     "output_type": "stream",
     "text": [
      "<class 'pandas.core.frame.DataFrame'>\n",
      "Int64Index: 4938 entries, 0 to 4937\n",
      "Data columns (total 5 columns):\n",
      " #   Column  Non-Null Count  Dtype  \n",
      "---  ------  --------------  -----  \n",
      " 0   b_name  4938 non-null   object \n",
      " 1   Price   4938 non-null   float64\n",
      " 2   a_name  4938 non-null   object \n",
      " 3   A_ID    4938 non-null   int64  \n",
      " 4   B_ID    4938 non-null   int64  \n",
      "dtypes: float64(1), int64(2), object(2)\n",
      "memory usage: 231.5+ KB\n"
     ]
    }
   ],
   "source": [
    "cols={\"title\":\"b_name\",\n",
    "\"price\":\"Price\",\n",
    "\"author\":\"a_name\",\n",
    "\"a_id\":\"A_ID\",\n",
    "\"b_id\":\"B_ID\"}\n",
    "df.rename(columns=cols,inplace=True)\n",
    "df.info()"
   ]
  },
  {
   "cell_type": "code",
   "execution_count": 11,
   "id": "c14f46a2",
   "metadata": {},
   "outputs": [
    {
     "name": "stdout",
     "output_type": "stream",
     "text": [
      "<class 'pandas.core.frame.DataFrame'>\n",
      "Int64Index: 2777 entries, 0 to 4937\n",
      "Data columns (total 2 columns):\n",
      " #   Column  Non-Null Count  Dtype \n",
      "---  ------  --------------  ----- \n",
      " 0   A_ID    2777 non-null   int64 \n",
      " 1   a_name  2777 non-null   object\n",
      "dtypes: int64(1), object(1)\n",
      "memory usage: 65.1+ KB\n"
     ]
    }
   ],
   "source": [
    "authors=df[[\"A_ID\",\"a_name\"]]\n",
    "authors=authors.drop_duplicates()\n",
    "authors.info()"
   ]
  },
  {
   "cell_type": "code",
   "execution_count": 12,
   "id": "67cc813c",
   "metadata": {},
   "outputs": [
    {
     "name": "stdout",
     "output_type": "stream",
     "text": [
      "<class 'pandas.core.frame.DataFrame'>\n",
      "Int64Index: 4938 entries, 0 to 4937\n",
      "Data columns (total 4 columns):\n",
      " #   Column  Non-Null Count  Dtype  \n",
      "---  ------  --------------  -----  \n",
      " 0   B_ID    4938 non-null   int64  \n",
      " 1   b_name  4938 non-null   object \n",
      " 2   Price   4938 non-null   float64\n",
      " 3   A_ID    4938 non-null   int64  \n",
      "dtypes: float64(1), int64(2), object(1)\n",
      "memory usage: 192.9+ KB\n"
     ]
    }
   ],
   "source": [
    "books=df[[\"B_ID\",\"b_name\",\"Price\",\"A_ID\"]]\n",
    "books[\"b_name\"]=books[\"b_name\"].apply(lambda x:x[:99])\n",
    "books=books.drop_duplicates()\n",
    "books.info()"
   ]
  },
  {
   "cell_type": "code",
   "execution_count": 13,
   "id": "3e80564e",
   "metadata": {},
   "outputs": [
    {
     "data": {
      "text/plain": [
       "['db_connection.ini']"
      ]
     },
     "execution_count": 13,
     "metadata": {},
     "output_type": "execute_result"
    }
   ],
   "source": [
    "db_config=ConfigParser()\n",
    "db_config.read(\"db_connection.ini\")"
   ]
  },
  {
   "cell_type": "code",
   "execution_count": 14,
   "id": "31b9af41",
   "metadata": {},
   "outputs": [],
   "source": [
    "current_db=DB_connector.connect(\n",
    "    host=db_config[\"SQL_CREDS\"][\"host\"],\n",
    "    user=db_config[\"SQL_CREDS\"][\"user\"],\n",
    "    password=db_config[\"SQL_CREDS\"][\"password\"],\n",
    "    database=db_config[\"SQL_CREDS\"][\"database\"]\n",
    ")\n",
    "cursor=current_db.cursor()"
   ]
  },
  {
   "cell_type": "code",
   "execution_count": 15,
   "id": "05102998",
   "metadata": {},
   "outputs": [],
   "source": [
    "cursor.execute(Creat_Table1)\n",
    "cursor.execute(Creat_Table2)"
   ]
  },
  {
   "cell_type": "code",
   "execution_count": 16,
   "id": "3b844582",
   "metadata": {},
   "outputs": [],
   "source": [
    "cursor.execute(\"SHOW TABLES\")"
   ]
  },
  {
   "cell_type": "code",
   "execution_count": 17,
   "id": "11052485",
   "metadata": {},
   "outputs": [
    {
     "name": "stdout",
     "output_type": "stream",
     "text": [
      "('author',)\n",
      "('books',)\n"
     ]
    }
   ],
   "source": [
    "for t in cursor:\n",
    "    print(t)"
   ]
  },
  {
   "cell_type": "markdown",
   "id": "73c3f8eb",
   "metadata": {},
   "source": [
    "# loading csv data to SQL"
   ]
  },
  {
   "cell_type": "code",
   "execution_count": 18,
   "id": "28586ac6",
   "metadata": {},
   "outputs": [
    {
     "data": {
      "text/html": [
       "<div>\n",
       "<style scoped>\n",
       "    .dataframe tbody tr th:only-of-type {\n",
       "        vertical-align: middle;\n",
       "    }\n",
       "\n",
       "    .dataframe tbody tr th {\n",
       "        vertical-align: top;\n",
       "    }\n",
       "\n",
       "    .dataframe thead th {\n",
       "        text-align: right;\n",
       "    }\n",
       "</style>\n",
       "<table border=\"1\" class=\"dataframe\">\n",
       "  <thead>\n",
       "    <tr style=\"text-align: right;\">\n",
       "      <th></th>\n",
       "      <th>A_ID</th>\n",
       "      <th>a_name</th>\n",
       "    </tr>\n",
       "  </thead>\n",
       "  <tbody>\n",
       "    <tr>\n",
       "      <th>0</th>\n",
       "      <td>3017</td>\n",
       "      <td>Suzanne Collins</td>\n",
       "    </tr>\n",
       "    <tr>\n",
       "      <th>1</th>\n",
       "      <td>8873</td>\n",
       "      <td>J.K. Rowling, Mary GrandPré (Illustrator)</td>\n",
       "    </tr>\n",
       "    <tr>\n",
       "      <th>2</th>\n",
       "      <td>6718</td>\n",
       "      <td>Harper Lee</td>\n",
       "    </tr>\n",
       "    <tr>\n",
       "      <th>3</th>\n",
       "      <td>4117</td>\n",
       "      <td>Jane Austen, Anna Quindlen (Introduction)</td>\n",
       "    </tr>\n",
       "    <tr>\n",
       "      <th>4</th>\n",
       "      <td>5008</td>\n",
       "      <td>Stephenie Meyer</td>\n",
       "    </tr>\n",
       "  </tbody>\n",
       "</table>\n",
       "</div>"
      ],
      "text/plain": [
       "   A_ID                                     a_name\n",
       "0  3017                            Suzanne Collins\n",
       "1  8873  J.K. Rowling, Mary GrandPré (Illustrator)\n",
       "2  6718                                 Harper Lee\n",
       "3  4117  Jane Austen, Anna Quindlen (Introduction)\n",
       "4  5008                            Stephenie Meyer"
      ]
     },
     "execution_count": 18,
     "metadata": {},
     "output_type": "execute_result"
    }
   ],
   "source": [
    "authors[\"a_name\"]=authors[\"a_name\"].apply(lambda x:x[:99])\n",
    "authors.head()"
   ]
  },
  {
   "cell_type": "code",
   "execution_count": 19,
   "id": "bfb14c0c",
   "metadata": {},
   "outputs": [],
   "source": [
    "insert_table_1=\"INSERT INTO author (A_ID,a_name) VALUES (%s ,%s)\"\n",
    "\n",
    "cursor.executemany(insert_table_1,tuple(authors.to_numpy().tolist()))\n",
    "current_db.commit()"
   ]
  },
  {
   "cell_type": "code",
   "execution_count": 20,
   "id": "cca93514",
   "metadata": {},
   "outputs": [],
   "source": [
    "insert_table_2=\"INSERT INTO books (B_ID,b_name,Price,A_ID) VALUES (%s ,%s ,%s ,%s)\"\n",
    "\n",
    "cursor.executemany(insert_table_2,tuple(books.to_numpy().tolist()))\n",
    "current_db.commit()"
   ]
  },
  {
   "cell_type": "markdown",
   "id": "8bdd4013",
   "metadata": {},
   "source": [
    "## fetching data from SQL"
   ]
  },
  {
   "cell_type": "code",
   "execution_count": 21,
   "id": "af8cb1aa",
   "metadata": {},
   "outputs": [],
   "source": [
    "see_table1=\"select * from author limit 5000\"\n",
    "see_table2=\"select * from books limit 5000\""
   ]
  },
  {
   "cell_type": "code",
   "execution_count": 22,
   "id": "e23697d0",
   "metadata": {},
   "outputs": [],
   "source": [
    "result_authors=pd.DataFrame()\n",
    "result_books=pd.DataFrame()"
   ]
  },
  {
   "cell_type": "code",
   "execution_count": 23,
   "id": "60af6794",
   "metadata": {},
   "outputs": [],
   "source": [
    "cursor.execute(see_table1)\n",
    "result=cursor.fetchall()\n",
    "result_authors=pd.DataFrame(data=result,columns=[\"author_id\",\"author_name\"])\n",
    "\n",
    "cursor.execute(see_table2)\n",
    "result=cursor.fetchall()\n",
    "result_books=pd.DataFrame(data=result,columns=[\"book_id\",\"book_name\",\"book_price\",\"author_ID\"])"
   ]
  },
  {
   "cell_type": "code",
   "execution_count": 24,
   "id": "7df7910e",
   "metadata": {},
   "outputs": [
    {
     "data": {
      "text/html": [
       "<div>\n",
       "<style scoped>\n",
       "    .dataframe tbody tr th:only-of-type {\n",
       "        vertical-align: middle;\n",
       "    }\n",
       "\n",
       "    .dataframe tbody tr th {\n",
       "        vertical-align: top;\n",
       "    }\n",
       "\n",
       "    .dataframe thead th {\n",
       "        text-align: right;\n",
       "    }\n",
       "</style>\n",
       "<table border=\"1\" class=\"dataframe\">\n",
       "  <thead>\n",
       "    <tr style=\"text-align: right;\">\n",
       "      <th></th>\n",
       "      <th>author_id</th>\n",
       "      <th>author_name</th>\n",
       "    </tr>\n",
       "  </thead>\n",
       "  <tbody>\n",
       "    <tr>\n",
       "      <th>0</th>\n",
       "      <td>3003</td>\n",
       "      <td>Alice Oseman (Goodreads Author), Aysha Kala (N...</td>\n",
       "    </tr>\n",
       "    <tr>\n",
       "      <th>1</th>\n",
       "      <td>3004</td>\n",
       "      <td>James McBride (Goodreads Author)</td>\n",
       "    </tr>\n",
       "    <tr>\n",
       "      <th>2</th>\n",
       "      <td>3005</td>\n",
       "      <td>Elizabeth Gilbert (Goodreads Author)</td>\n",
       "    </tr>\n",
       "    <tr>\n",
       "      <th>3</th>\n",
       "      <td>3014</td>\n",
       "      <td>Rachel Hartman (Goodreads Author)</td>\n",
       "    </tr>\n",
       "    <tr>\n",
       "      <th>4</th>\n",
       "      <td>3017</td>\n",
       "      <td>Suzanne Collins</td>\n",
       "    </tr>\n",
       "  </tbody>\n",
       "</table>\n",
       "</div>"
      ],
      "text/plain": [
       "   author_id                                        author_name\n",
       "0       3003  Alice Oseman (Goodreads Author), Aysha Kala (N...\n",
       "1       3004                   James McBride (Goodreads Author)\n",
       "2       3005               Elizabeth Gilbert (Goodreads Author)\n",
       "3       3014                  Rachel Hartman (Goodreads Author)\n",
       "4       3017                                    Suzanne Collins"
      ]
     },
     "execution_count": 24,
     "metadata": {},
     "output_type": "execute_result"
    }
   ],
   "source": [
    "result_authors.head()"
   ]
  },
  {
   "cell_type": "code",
   "execution_count": 25,
   "id": "f73b9521",
   "metadata": {},
   "outputs": [
    {
     "data": {
      "text/html": [
       "<div>\n",
       "<style scoped>\n",
       "    .dataframe tbody tr th:only-of-type {\n",
       "        vertical-align: middle;\n",
       "    }\n",
       "\n",
       "    .dataframe tbody tr th {\n",
       "        vertical-align: top;\n",
       "    }\n",
       "\n",
       "    .dataframe thead th {\n",
       "        text-align: right;\n",
       "    }\n",
       "</style>\n",
       "<table border=\"1\" class=\"dataframe\">\n",
       "  <thead>\n",
       "    <tr style=\"text-align: right;\">\n",
       "      <th></th>\n",
       "      <th>book_id</th>\n",
       "      <th>book_name</th>\n",
       "      <th>book_price</th>\n",
       "      <th>author_ID</th>\n",
       "    </tr>\n",
       "  </thead>\n",
       "  <tbody>\n",
       "    <tr>\n",
       "      <th>0</th>\n",
       "      <td>0</td>\n",
       "      <td>The Hunger Games</td>\n",
       "      <td>387</td>\n",
       "      <td>3017</td>\n",
       "    </tr>\n",
       "    <tr>\n",
       "      <th>1</th>\n",
       "      <td>1</td>\n",
       "      <td>Harry Potter and the Order of the Phoenix</td>\n",
       "      <td>561</td>\n",
       "      <td>8873</td>\n",
       "    </tr>\n",
       "    <tr>\n",
       "      <th>2</th>\n",
       "      <td>2</td>\n",
       "      <td>To Kill a Mockingbird</td>\n",
       "      <td>529</td>\n",
       "      <td>6718</td>\n",
       "    </tr>\n",
       "    <tr>\n",
       "      <th>3</th>\n",
       "      <td>3</td>\n",
       "      <td>Pride and Prejudice</td>\n",
       "      <td>529</td>\n",
       "      <td>4117</td>\n",
       "    </tr>\n",
       "    <tr>\n",
       "      <th>4</th>\n",
       "      <td>4</td>\n",
       "      <td>Twilight</td>\n",
       "      <td>160</td>\n",
       "      <td>5008</td>\n",
       "    </tr>\n",
       "  </tbody>\n",
       "</table>\n",
       "</div>"
      ],
      "text/plain": [
       "   book_id                                  book_name  book_price  author_ID\n",
       "0        0                           The Hunger Games         387       3017\n",
       "1        1  Harry Potter and the Order of the Phoenix         561       8873\n",
       "2        2                      To Kill a Mockingbird         529       6718\n",
       "3        3                        Pride and Prejudice         529       4117\n",
       "4        4                                   Twilight         160       5008"
      ]
     },
     "execution_count": 25,
     "metadata": {},
     "output_type": "execute_result"
    }
   ],
   "source": [
    "result_books.head()"
   ]
  },
  {
   "cell_type": "code",
   "execution_count": 26,
   "id": "78bd9aac",
   "metadata": {},
   "outputs": [],
   "source": [
    "result_authors.to_parquet(\"authors_data_result.pqt\")\n",
    "result_books.to_parquet(\"books_data_result.pqt\")"
   ]
  }
 ],
 "metadata": {
  "kernelspec": {
   "display_name": "Python 3 (ipykernel)",
   "language": "python",
   "name": "python3"
  },
  "language_info": {
   "codemirror_mode": {
    "name": "ipython",
    "version": 3
   },
   "file_extension": ".py",
   "mimetype": "text/x-python",
   "name": "python",
   "nbconvert_exporter": "python",
   "pygments_lexer": "ipython3",
   "version": "3.8.5"
  }
 },
 "nbformat": 4,
 "nbformat_minor": 5
}
